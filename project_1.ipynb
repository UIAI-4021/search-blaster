{
 "cells": [
  {
   "cell_type": "code",
   "execution_count": 28,
   "id": "initial_id",
   "metadata": {
    "collapsed": true,
    "ExecuteTime": {
     "end_time": "2023-11-02T15:12:11.853811800Z",
     "start_time": "2023-11-02T15:12:11.846812100Z"
    }
   },
   "outputs": [],
   "source": [
    "import pandas as pd\n",
    "import networkx as nw\n",
    "import sys\n",
    "import time"
   ]
  },
  {
   "cell_type": "code",
   "execution_count": 29,
   "outputs": [
    {
     "data": {
      "text/plain": "                Airline                                   SourceAirport  \\\n0      Pegasus Airlines             Sabiha Gökçen International Airport   \n1      Turkish Airlines             Sabiha Gökçen International Airport   \n2      Turkish Airlines                   Atatürk International Airport   \n3              Emirates                     Dubai International Airport   \n4        Etihad Airways                 Abu Dhabi International Airport   \n...                 ...                                             ...   \n12845       Kenmore Air  Boeing Field King County International Airport   \n12846       Kenmore Air  Boeing Field King County International Airport   \n12847       Kenmore Air       William R Fairchild International Airport   \n12848       Kenmore Air                           Friday Harbor Airport   \n12849       Kenmore Air                            Orcas Island Airport   \n\n                                   DestinationAirport SourceAirport_City  \\\n0                 Imam Khomeini International Airport           Istanbul   \n1                 Imam Khomeini International Airport           Istanbul   \n2                 Imam Khomeini International Airport           Istanbul   \n3                 Imam Khomeini International Airport              Dubai   \n4                 Imam Khomeini International Airport          Abu Dhabi   \n...                                               ...                ...   \n12845       William R Fairchild International Airport            Seattle   \n12846                            Orcas Island Airport            Seattle   \n12847  Boeing Field King County International Airport       Port Angeles   \n12848  Boeing Field King County International Airport      Friday Harbor   \n12849                           Friday Harbor Airport          Eastsound   \n\n      SourceAirport_Country  SourceAirport_Latitude  SourceAirport_Longitude  \\\n0                    Turkey               40.898602                29.309200   \n1                    Turkey               40.898602                29.309200   \n2                    Turkey               40.976898                28.814600   \n3      United Arab Emirates               25.252800                55.364399   \n4      United Arab Emirates               24.433001                54.651100   \n...                     ...                     ...                      ...   \n12845         United States               47.529999              -122.302002   \n12846         United States               47.529999              -122.302002   \n12847         United States               48.120201              -123.500000   \n12848         United States               48.521999              -123.024002   \n12849         United States               48.708199              -122.910004   \n\n       SourceAirport_Altitude DestinationAirport_City  \\\n0                         312                  Tehran   \n1                         312                  Tehran   \n2                         163                  Tehran   \n3                          62                  Tehran   \n4                          88                  Tehran   \n...                       ...                     ...   \n12845                      21            Port Angeles   \n12846                      21               Eastsound   \n12847                     291                 Seattle   \n12848                     113                 Seattle   \n12849                      31           Friday Harbor   \n\n      DestinationAirport_Country  DestinationAirport_Latitude  \\\n0                           Iran                    35.416100   \n1                           Iran                    35.416100   \n2                           Iran                    35.416100   \n3                           Iran                    35.416100   \n4                           Iran                    35.416100   \n...                          ...                          ...   \n12845              United States                    48.120201   \n12846              United States                    48.708199   \n12847              United States                    47.529999   \n12848              United States                    47.529999   \n12849              United States                    48.521999   \n\n       DestinationAirport_Longitude  DestinationAirport_Altitude     Distance  \\\n0                         51.152199                         3305  1998.541333   \n1                         51.152199                         3305  1998.541333   \n2                         51.152199                         3305  2040.978811   \n3                         51.152199                         3305  1199.863567   \n4                         51.152199                         3305  1266.681453   \n...                             ...                          ...          ...   \n12845                   -123.500000                          291   110.930397   \n12846                   -122.910004                           31   138.564899   \n12847                   -122.302002                           21   110.930397   \n12848                   -122.302002                           21   122.677708   \n12849                   -123.024002                          113    22.336108   \n\n        FlyTime       Price  \n0      2.982660  969.270667  \n1      2.982660  969.270667  \n2      3.035377  990.489405  \n3      1.990514  569.931784  \n4      2.073517  603.340726  \n...         ...         ...  \n12845  0.637802   25.465199  \n12846  0.672130   39.282450  \n12847  0.637802   25.465199  \n12848  0.652395   31.338854  \n12849  0.527747  -18.831946  \n\n[12850 rows x 16 columns]",
      "text/html": "<div>\n<style scoped>\n    .dataframe tbody tr th:only-of-type {\n        vertical-align: middle;\n    }\n\n    .dataframe tbody tr th {\n        vertical-align: top;\n    }\n\n    .dataframe thead th {\n        text-align: right;\n    }\n</style>\n<table border=\"1\" class=\"dataframe\">\n  <thead>\n    <tr style=\"text-align: right;\">\n      <th></th>\n      <th>Airline</th>\n      <th>SourceAirport</th>\n      <th>DestinationAirport</th>\n      <th>SourceAirport_City</th>\n      <th>SourceAirport_Country</th>\n      <th>SourceAirport_Latitude</th>\n      <th>SourceAirport_Longitude</th>\n      <th>SourceAirport_Altitude</th>\n      <th>DestinationAirport_City</th>\n      <th>DestinationAirport_Country</th>\n      <th>DestinationAirport_Latitude</th>\n      <th>DestinationAirport_Longitude</th>\n      <th>DestinationAirport_Altitude</th>\n      <th>Distance</th>\n      <th>FlyTime</th>\n      <th>Price</th>\n    </tr>\n  </thead>\n  <tbody>\n    <tr>\n      <th>0</th>\n      <td>Pegasus Airlines</td>\n      <td>Sabiha Gökçen International Airport</td>\n      <td>Imam Khomeini International Airport</td>\n      <td>Istanbul</td>\n      <td>Turkey</td>\n      <td>40.898602</td>\n      <td>29.309200</td>\n      <td>312</td>\n      <td>Tehran</td>\n      <td>Iran</td>\n      <td>35.416100</td>\n      <td>51.152199</td>\n      <td>3305</td>\n      <td>1998.541333</td>\n      <td>2.982660</td>\n      <td>969.270667</td>\n    </tr>\n    <tr>\n      <th>1</th>\n      <td>Turkish Airlines</td>\n      <td>Sabiha Gökçen International Airport</td>\n      <td>Imam Khomeini International Airport</td>\n      <td>Istanbul</td>\n      <td>Turkey</td>\n      <td>40.898602</td>\n      <td>29.309200</td>\n      <td>312</td>\n      <td>Tehran</td>\n      <td>Iran</td>\n      <td>35.416100</td>\n      <td>51.152199</td>\n      <td>3305</td>\n      <td>1998.541333</td>\n      <td>2.982660</td>\n      <td>969.270667</td>\n    </tr>\n    <tr>\n      <th>2</th>\n      <td>Turkish Airlines</td>\n      <td>Atatürk International Airport</td>\n      <td>Imam Khomeini International Airport</td>\n      <td>Istanbul</td>\n      <td>Turkey</td>\n      <td>40.976898</td>\n      <td>28.814600</td>\n      <td>163</td>\n      <td>Tehran</td>\n      <td>Iran</td>\n      <td>35.416100</td>\n      <td>51.152199</td>\n      <td>3305</td>\n      <td>2040.978811</td>\n      <td>3.035377</td>\n      <td>990.489405</td>\n    </tr>\n    <tr>\n      <th>3</th>\n      <td>Emirates</td>\n      <td>Dubai International Airport</td>\n      <td>Imam Khomeini International Airport</td>\n      <td>Dubai</td>\n      <td>United Arab Emirates</td>\n      <td>25.252800</td>\n      <td>55.364399</td>\n      <td>62</td>\n      <td>Tehran</td>\n      <td>Iran</td>\n      <td>35.416100</td>\n      <td>51.152199</td>\n      <td>3305</td>\n      <td>1199.863567</td>\n      <td>1.990514</td>\n      <td>569.931784</td>\n    </tr>\n    <tr>\n      <th>4</th>\n      <td>Etihad Airways</td>\n      <td>Abu Dhabi International Airport</td>\n      <td>Imam Khomeini International Airport</td>\n      <td>Abu Dhabi</td>\n      <td>United Arab Emirates</td>\n      <td>24.433001</td>\n      <td>54.651100</td>\n      <td>88</td>\n      <td>Tehran</td>\n      <td>Iran</td>\n      <td>35.416100</td>\n      <td>51.152199</td>\n      <td>3305</td>\n      <td>1266.681453</td>\n      <td>2.073517</td>\n      <td>603.340726</td>\n    </tr>\n    <tr>\n      <th>...</th>\n      <td>...</td>\n      <td>...</td>\n      <td>...</td>\n      <td>...</td>\n      <td>...</td>\n      <td>...</td>\n      <td>...</td>\n      <td>...</td>\n      <td>...</td>\n      <td>...</td>\n      <td>...</td>\n      <td>...</td>\n      <td>...</td>\n      <td>...</td>\n      <td>...</td>\n      <td>...</td>\n    </tr>\n    <tr>\n      <th>12845</th>\n      <td>Kenmore Air</td>\n      <td>Boeing Field King County International Airport</td>\n      <td>William R Fairchild International Airport</td>\n      <td>Seattle</td>\n      <td>United States</td>\n      <td>47.529999</td>\n      <td>-122.302002</td>\n      <td>21</td>\n      <td>Port Angeles</td>\n      <td>United States</td>\n      <td>48.120201</td>\n      <td>-123.500000</td>\n      <td>291</td>\n      <td>110.930397</td>\n      <td>0.637802</td>\n      <td>25.465199</td>\n    </tr>\n    <tr>\n      <th>12846</th>\n      <td>Kenmore Air</td>\n      <td>Boeing Field King County International Airport</td>\n      <td>Orcas Island Airport</td>\n      <td>Seattle</td>\n      <td>United States</td>\n      <td>47.529999</td>\n      <td>-122.302002</td>\n      <td>21</td>\n      <td>Eastsound</td>\n      <td>United States</td>\n      <td>48.708199</td>\n      <td>-122.910004</td>\n      <td>31</td>\n      <td>138.564899</td>\n      <td>0.672130</td>\n      <td>39.282450</td>\n    </tr>\n    <tr>\n      <th>12847</th>\n      <td>Kenmore Air</td>\n      <td>William R Fairchild International Airport</td>\n      <td>Boeing Field King County International Airport</td>\n      <td>Port Angeles</td>\n      <td>United States</td>\n      <td>48.120201</td>\n      <td>-123.500000</td>\n      <td>291</td>\n      <td>Seattle</td>\n      <td>United States</td>\n      <td>47.529999</td>\n      <td>-122.302002</td>\n      <td>21</td>\n      <td>110.930397</td>\n      <td>0.637802</td>\n      <td>25.465199</td>\n    </tr>\n    <tr>\n      <th>12848</th>\n      <td>Kenmore Air</td>\n      <td>Friday Harbor Airport</td>\n      <td>Boeing Field King County International Airport</td>\n      <td>Friday Harbor</td>\n      <td>United States</td>\n      <td>48.521999</td>\n      <td>-123.024002</td>\n      <td>113</td>\n      <td>Seattle</td>\n      <td>United States</td>\n      <td>47.529999</td>\n      <td>-122.302002</td>\n      <td>21</td>\n      <td>122.677708</td>\n      <td>0.652395</td>\n      <td>31.338854</td>\n    </tr>\n    <tr>\n      <th>12849</th>\n      <td>Kenmore Air</td>\n      <td>Orcas Island Airport</td>\n      <td>Friday Harbor Airport</td>\n      <td>Eastsound</td>\n      <td>United States</td>\n      <td>48.708199</td>\n      <td>-122.910004</td>\n      <td>31</td>\n      <td>Friday Harbor</td>\n      <td>United States</td>\n      <td>48.521999</td>\n      <td>-123.024002</td>\n      <td>113</td>\n      <td>22.336108</td>\n      <td>0.527747</td>\n      <td>-18.831946</td>\n    </tr>\n  </tbody>\n</table>\n<p>12850 rows × 16 columns</p>\n</div>"
     },
     "execution_count": 29,
     "metadata": {},
     "output_type": "execute_result"
    }
   ],
   "source": [
    "df = pd.read_csv(r'C:\\Users\\KCC\\Desktop\\Flight_Data.csv')\n",
    "df"
   ],
   "metadata": {
    "collapsed": false,
    "ExecuteTime": {
     "end_time": "2023-11-02T15:12:12.776666100Z",
     "start_time": "2023-11-02T15:12:12.641651100Z"
    }
   },
   "id": "415bf51cc995e7a8"
  },
  {
   "cell_type": "code",
   "execution_count": 145,
   "outputs": [],
   "source": [
    "G = nw.DiGraph()"
   ],
   "metadata": {
    "collapsed": false,
    "ExecuteTime": {
     "end_time": "2023-11-02T15:34:02.935908600Z",
     "start_time": "2023-11-02T15:34:02.919723700Z"
    }
   },
   "id": "5e14f3a4d21e25c0"
  },
  {
   "cell_type": "code",
   "execution_count": 157,
   "outputs": [],
   "source": [
    "G = nw.from_pandas_edgelist(df, source = 'SourceAirport', target = 'DestinationAirport', edge_attr = ['Distance','FlyTime','Price','SourceAirport_City','SourceAirport_Country','DestinationAirport_City','DestinationAirport_Country'])"
   ],
   "metadata": {
    "collapsed": false,
    "ExecuteTime": {
     "end_time": "2023-11-02T15:35:16.986662100Z",
     "start_time": "2023-11-02T15:35:16.937366700Z"
    }
   },
   "id": "2b9bec09e3df21b6"
  },
  {
   "cell_type": "code",
   "execution_count": 158,
   "outputs": [],
   "source": [
    "source_and_destination_airports = input()\n",
    "airports = source_and_destination_airports.split(' - ')\n",
    "start_node , target_node = airports[0],airports[1]"
   ],
   "metadata": {
    "collapsed": false,
    "ExecuteTime": {
     "end_time": "2023-11-02T15:35:19.473793100Z",
     "start_time": "2023-11-02T15:35:17.528901500Z"
    }
   },
   "id": "6c33c4052202f523"
  },
  {
   "cell_type": "code",
   "execution_count": 159,
   "outputs": [],
   "source": [
    "def dijkstra_algorithm(graph, start_node):\n",
    "    unvisited_nodes = list(graph.nodes())\n",
    "    shortest_path = {}\n",
    "    previous_nodes = {}\n",
    "    # We'll use max_value to initialize the \"infinity\" value of the unvisited nodes   \n",
    "    max_value = sys.maxsize\n",
    "    for node in unvisited_nodes:\n",
    "        shortest_path[node] = max_value\n",
    "    # However, we initialize the starting node's value with 0   \n",
    "    shortest_path[start_node] = 0\n",
    "    while unvisited_nodes:\n",
    "        current_min_node = None\n",
    "        for node in unvisited_nodes:  # Iterate over the nodes\n",
    "            if current_min_node is None:\n",
    "                current_min_node = node\n",
    "            elif shortest_path[node] < shortest_path[current_min_node]:\n",
    "                current_min_node = node\n",
    "        # The code block below retrieves the current node's neighbors and updates their distances\n",
    "        neighbors = list(graph.adj[current_min_node])\n",
    "        for neighbor in neighbors:\n",
    "            value = graph.get_edge_data(current_min_node, neighbor)\n",
    "            tentative_value = shortest_path[current_min_node] + value.get('Distance')\n",
    "            if tentative_value < shortest_path[neighbor]:\n",
    "                shortest_path[neighbor] = tentative_value\n",
    "                # We also update the best path to the current node\n",
    "                previous_nodes[neighbor] = current_min_node\n",
    "        unvisited_nodes.remove(current_min_node)\n",
    "    return previous_nodes, shortest_path   "
   ],
   "metadata": {
    "collapsed": false,
    "ExecuteTime": {
     "end_time": "2023-11-02T15:35:23.379935400Z",
     "start_time": "2023-11-02T15:35:23.371168300Z"
    }
   },
   "id": "bf91eaae3b75e3f2"
  },
  {
   "cell_type": "code",
   "execution_count": 160,
   "outputs": [],
   "source": [
    "def dijkstra_calculate_result(previous_nodes, start_node, target_node):\n",
    "    path = []\n",
    "    node = target_node\n",
    "\n",
    "    while node != start_node:\n",
    "        path.append(node)\n",
    "        node = previous_nodes[node]\n",
    " \n",
    "    path.append(start_node)\n",
    "    path.reverse()\n",
    "    return path"
   ],
   "metadata": {
    "collapsed": false,
    "ExecuteTime": {
     "end_time": "2023-11-02T15:35:23.912346Z",
     "start_time": "2023-11-02T15:35:23.900558600Z"
    }
   },
   "id": "73574759203bf615"
  },
  {
   "cell_type": "code",
   "execution_count": 161,
   "outputs": [],
   "source": [
    "def dijkstra_write_file(graph, path, target_node, shortest_path, execution_time):\n",
    "    total_price = 0\n",
    "    total_time = 0\n",
    "    f = open(\"Blaster-UIAI4021-PR1-Q1.txt\", \"w\")\n",
    "    f.write(\"dijkstra Algorithm\\n\"\n",
    "            \"Execution Time: {}\\n\"\n",
    "            \".-.-.-.-.-.-.-.-.-.-.-.-.-.-.-.-.-.-.-.-.-.-.-.-\\n\".format(round(execution_time)))\n",
    "    for i in range(len(path) - 1):\n",
    "        value = graph.get_edge_data(path[i], path[i + 1])\n",
    "        total_price = total_price + value.get('Price')\n",
    "        total_time = total_time + value.get('FlyTime')\n",
    "        f.write(\"Flight #{}:\\n\"\n",
    "                \"From: {}-{}, {}\\n\"\n",
    "                \"To: {}-{}, {}\\n\"\n",
    "                \"Duration: {}km\\n\"\n",
    "                \"Time: {}h\\n\"\n",
    "                \"Price: {}$\"\n",
    "                .format(i + 1, value.get('SourceAirport_City'), path[i], value.get('SourceAirport_Country'),\n",
    "                        value.get('DestinationAirport_City'), path[i + 1], value.get('DestinationAirport_Country'),\n",
    "                        round(value.get('Distance')),\n",
    "                        round(value.get('FlyTime')),\n",
    "                        round(value.get('Price'))))\n",
    "        f.write(\"\\n----------------------------\\n\")\n",
    "    f.write(\"Total Price: {}$\\n\"\n",
    "            \"Total Duration: {}km\\n\"\n",
    "            \"Total Time: {}h\".format(round(total_price), round(shortest_path[target_node]), round(total_time)))\n",
    "    f.close()\n",
    "    "
   ],
   "metadata": {
    "collapsed": false,
    "ExecuteTime": {
     "end_time": "2023-11-02T15:35:24.585339Z",
     "start_time": "2023-11-02T15:35:24.576329200Z"
    }
   },
   "id": "a126f0064eed5334"
  },
  {
   "cell_type": "code",
   "execution_count": 162,
   "outputs": [],
   "source": [
    "dijkstra_start_time = time.time()"
   ],
   "metadata": {
    "collapsed": false,
    "ExecuteTime": {
     "end_time": "2023-11-02T15:35:25.449712400Z",
     "start_time": "2023-11-02T15:35:25.439560500Z"
    }
   },
   "id": "e7545b6ce7aab3f9"
  },
  {
   "cell_type": "code",
   "execution_count": 163,
   "outputs": [],
   "source": [
    "previous_nodes, shortest_path = dijkstra_algorithm(graph=G, start_node=start_node)"
   ],
   "metadata": {
    "collapsed": false,
    "ExecuteTime": {
     "end_time": "2023-11-02T15:35:26.266263100Z",
     "start_time": "2023-11-02T15:35:26.232480500Z"
    }
   },
   "id": "1b847634bc4a21a1"
  },
  {
   "cell_type": "code",
   "execution_count": 164,
   "outputs": [],
   "source": [
    "path = dijkstra_calculate_result(previous_nodes, start_node=start_node, target_node=target_node)"
   ],
   "metadata": {
    "collapsed": false,
    "ExecuteTime": {
     "end_time": "2023-11-02T15:35:27.118740800Z",
     "start_time": "2023-11-02T15:35:27.098641Z"
    }
   },
   "id": "c7352bf7b512df5e"
  },
  {
   "cell_type": "code",
   "execution_count": 165,
   "outputs": [],
   "source": [
    "dijkstra_end_time = time.time()"
   ],
   "metadata": {
    "collapsed": false,
    "ExecuteTime": {
     "end_time": "2023-11-02T15:35:28.039528500Z",
     "start_time": "2023-11-02T15:35:28.030467400Z"
    }
   },
   "id": "f1d4cecd8136f9dc"
  },
  {
   "cell_type": "code",
   "execution_count": 166,
   "outputs": [],
   "source": [
    "dijkstra_execution_time = dijkstra_end_time - dijkstra_start_time"
   ],
   "metadata": {
    "collapsed": false,
    "ExecuteTime": {
     "end_time": "2023-11-02T15:35:29.030836900Z",
     "start_time": "2023-11-02T15:35:29.020976200Z"
    }
   },
   "id": "f7d2c59d315cffa6"
  },
  {
   "cell_type": "code",
   "execution_count": 167,
   "outputs": [],
   "source": [
    "dijkstra_write_file(graph=G, path=path, target_node=target_node, shortest_path=shortest_path, execution_time= dijkstra_execution_time)"
   ],
   "metadata": {
    "collapsed": false,
    "ExecuteTime": {
     "end_time": "2023-11-02T15:35:29.774672600Z",
     "start_time": "2023-11-02T15:35:29.767701300Z"
    }
   },
   "id": "83baa8f913158878"
  },
  {
   "cell_type": "code",
   "execution_count": null,
   "outputs": [],
   "source": [],
   "metadata": {
    "collapsed": false
   },
   "id": "68c833375df48130"
  }
 ],
 "metadata": {
  "kernelspec": {
   "display_name": "Python 3",
   "language": "python",
   "name": "python3"
  },
  "language_info": {
   "codemirror_mode": {
    "name": "ipython",
    "version": 2
   },
   "file_extension": ".py",
   "mimetype": "text/x-python",
   "name": "python",
   "nbconvert_exporter": "python",
   "pygments_lexer": "ipython2",
   "version": "2.7.6"
  }
 },
 "nbformat": 4,
 "nbformat_minor": 5
}
