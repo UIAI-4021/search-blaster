{
 "cells": [
  {
   "cell_type": "code",
   "execution_count": 149,
   "id": "initial_id",
   "metadata": {
    "collapsed": true,
    "ExecuteTime": {
     "end_time": "2023-11-12T20:53:02.166774700Z",
     "start_time": "2023-11-12T20:53:02.133918900Z"
    }
   },
   "outputs": [],
   "source": [
    "#Kimia Arjmand 4003623001\n",
    "#Maryam Hoseinpoor 4003623012"
   ]
  },
  {
   "cell_type": "code",
   "execution_count": null,
   "outputs": [],
   "source": [
    "import pandas as pd\n",
    "import networkx as nw\n",
    "import sys\n",
    "import time\n",
    "from queue import PriorityQueue"
   ],
   "metadata": {
    "collapsed": false
   },
   "id": "15255ecc703cc5c9"
  },
  {
   "cell_type": "code",
   "execution_count": 150,
   "outputs": [
    {
     "data": {
      "text/plain": "               Airline                                   SourceAirport  \\\n0     Pegasus Airlines             Sabiha Gökçen International Airport   \n1     Turkish Airlines                   Atatürk International Airport   \n2             Emirates                     Dubai International Airport   \n3       Etihad Airways                 Abu Dhabi International Airport   \n4           Air Arabia                   Sharjah International Airport   \n...                ...                                             ...   \n6831       Kenmore Air  Boeing Field King County International Airport   \n6832       Kenmore Air  Boeing Field King County International Airport   \n6833       Kenmore Air       William R Fairchild International Airport   \n6834       Kenmore Air                           Friday Harbor Airport   \n6835       Kenmore Air                            Orcas Island Airport   \n\n                                  DestinationAirport SourceAirport_City  \\\n0                Imam Khomeini International Airport           Istanbul   \n1                Imam Khomeini International Airport           Istanbul   \n2                Imam Khomeini International Airport              Dubai   \n3                Imam Khomeini International Airport          Abu Dhabi   \n4                Imam Khomeini International Airport            Sharjah   \n...                                              ...                ...   \n6831       William R Fairchild International Airport            Seattle   \n6832                            Orcas Island Airport            Seattle   \n6833  Boeing Field King County International Airport       Port Angeles   \n6834  Boeing Field King County International Airport      Friday Harbor   \n6835                           Friday Harbor Airport          Eastsound   \n\n     SourceAirport_Country  SourceAirport_Latitude  SourceAirport_Longitude  \\\n0                   Turkey               40.898602                29.309200   \n1                   Turkey               40.976898                28.814600   \n2     United Arab Emirates               25.252800                55.364399   \n3     United Arab Emirates               24.433001                54.651100   \n4     United Arab Emirates               25.328600                55.517200   \n...                    ...                     ...                      ...   \n6831         United States               47.529999              -122.302002   \n6832         United States               47.529999              -122.302002   \n6833         United States               48.120201              -123.500000   \n6834         United States               48.521999              -123.024002   \n6835         United States               48.708199              -122.910004   \n\n      SourceAirport_Altitude DestinationAirport_City  \\\n0                        312                  Tehran   \n1                        163                  Tehran   \n2                         62                  Tehran   \n3                         88                  Tehran   \n4                        111                  Tehran   \n...                      ...                     ...   \n6831                      21            Port Angeles   \n6832                      21               Eastsound   \n6833                     291                 Seattle   \n6834                     113                 Seattle   \n6835                      31           Friday Harbor   \n\n     DestinationAirport_Country  DestinationAirport_Latitude  \\\n0                          Iran                    35.416100   \n1                          Iran                    35.416100   \n2                          Iran                    35.416100   \n3                          Iran                    35.416100   \n4                          Iran                    35.416100   \n...                         ...                          ...   \n6831              United States                    48.120201   \n6832              United States                    48.708199   \n6833              United States                    47.529999   \n6834              United States                    47.529999   \n6835              United States                    48.521999   \n\n      DestinationAirport_Longitude  DestinationAirport_Altitude     Distance  \\\n0                        51.152199                         3305  1998.541333   \n1                        51.152199                         3305  2040.978811   \n2                        51.152199                         3305  1199.863567   \n3                        51.152199                         3305  1266.681453   \n4                        51.152199                         3305  1196.902147   \n...                            ...                          ...          ...   \n6831                   -123.500000                          291   110.930397   \n6832                   -122.910004                           31   138.564899   \n6833                   -122.302002                           21   110.930397   \n6834                   -122.302002                           21   122.677708   \n6835                   -123.024002                          113    22.336108   \n\n       FlyTime       Price  \n0     2.624833  271.489760  \n1     2.882362  300.589499  \n2     1.536046  210.215879  \n3     2.144199  175.864733  \n4     1.772627  174.332843  \n...        ...         ...  \n6831  0.161072   31.661891  \n6832  0.899144   26.201671  \n6833  0.751768   99.285196  \n6834  1.119010   19.599675  \n6835  0.561618   85.342779  \n\n[6836 rows x 16 columns]",
      "text/html": "<div>\n<style scoped>\n    .dataframe tbody tr th:only-of-type {\n        vertical-align: middle;\n    }\n\n    .dataframe tbody tr th {\n        vertical-align: top;\n    }\n\n    .dataframe thead th {\n        text-align: right;\n    }\n</style>\n<table border=\"1\" class=\"dataframe\">\n  <thead>\n    <tr style=\"text-align: right;\">\n      <th></th>\n      <th>Airline</th>\n      <th>SourceAirport</th>\n      <th>DestinationAirport</th>\n      <th>SourceAirport_City</th>\n      <th>SourceAirport_Country</th>\n      <th>SourceAirport_Latitude</th>\n      <th>SourceAirport_Longitude</th>\n      <th>SourceAirport_Altitude</th>\n      <th>DestinationAirport_City</th>\n      <th>DestinationAirport_Country</th>\n      <th>DestinationAirport_Latitude</th>\n      <th>DestinationAirport_Longitude</th>\n      <th>DestinationAirport_Altitude</th>\n      <th>Distance</th>\n      <th>FlyTime</th>\n      <th>Price</th>\n    </tr>\n  </thead>\n  <tbody>\n    <tr>\n      <th>0</th>\n      <td>Pegasus Airlines</td>\n      <td>Sabiha Gökçen International Airport</td>\n      <td>Imam Khomeini International Airport</td>\n      <td>Istanbul</td>\n      <td>Turkey</td>\n      <td>40.898602</td>\n      <td>29.309200</td>\n      <td>312</td>\n      <td>Tehran</td>\n      <td>Iran</td>\n      <td>35.416100</td>\n      <td>51.152199</td>\n      <td>3305</td>\n      <td>1998.541333</td>\n      <td>2.624833</td>\n      <td>271.489760</td>\n    </tr>\n    <tr>\n      <th>1</th>\n      <td>Turkish Airlines</td>\n      <td>Atatürk International Airport</td>\n      <td>Imam Khomeini International Airport</td>\n      <td>Istanbul</td>\n      <td>Turkey</td>\n      <td>40.976898</td>\n      <td>28.814600</td>\n      <td>163</td>\n      <td>Tehran</td>\n      <td>Iran</td>\n      <td>35.416100</td>\n      <td>51.152199</td>\n      <td>3305</td>\n      <td>2040.978811</td>\n      <td>2.882362</td>\n      <td>300.589499</td>\n    </tr>\n    <tr>\n      <th>2</th>\n      <td>Emirates</td>\n      <td>Dubai International Airport</td>\n      <td>Imam Khomeini International Airport</td>\n      <td>Dubai</td>\n      <td>United Arab Emirates</td>\n      <td>25.252800</td>\n      <td>55.364399</td>\n      <td>62</td>\n      <td>Tehran</td>\n      <td>Iran</td>\n      <td>35.416100</td>\n      <td>51.152199</td>\n      <td>3305</td>\n      <td>1199.863567</td>\n      <td>1.536046</td>\n      <td>210.215879</td>\n    </tr>\n    <tr>\n      <th>3</th>\n      <td>Etihad Airways</td>\n      <td>Abu Dhabi International Airport</td>\n      <td>Imam Khomeini International Airport</td>\n      <td>Abu Dhabi</td>\n      <td>United Arab Emirates</td>\n      <td>24.433001</td>\n      <td>54.651100</td>\n      <td>88</td>\n      <td>Tehran</td>\n      <td>Iran</td>\n      <td>35.416100</td>\n      <td>51.152199</td>\n      <td>3305</td>\n      <td>1266.681453</td>\n      <td>2.144199</td>\n      <td>175.864733</td>\n    </tr>\n    <tr>\n      <th>4</th>\n      <td>Air Arabia</td>\n      <td>Sharjah International Airport</td>\n      <td>Imam Khomeini International Airport</td>\n      <td>Sharjah</td>\n      <td>United Arab Emirates</td>\n      <td>25.328600</td>\n      <td>55.517200</td>\n      <td>111</td>\n      <td>Tehran</td>\n      <td>Iran</td>\n      <td>35.416100</td>\n      <td>51.152199</td>\n      <td>3305</td>\n      <td>1196.902147</td>\n      <td>1.772627</td>\n      <td>174.332843</td>\n    </tr>\n    <tr>\n      <th>...</th>\n      <td>...</td>\n      <td>...</td>\n      <td>...</td>\n      <td>...</td>\n      <td>...</td>\n      <td>...</td>\n      <td>...</td>\n      <td>...</td>\n      <td>...</td>\n      <td>...</td>\n      <td>...</td>\n      <td>...</td>\n      <td>...</td>\n      <td>...</td>\n      <td>...</td>\n      <td>...</td>\n    </tr>\n    <tr>\n      <th>6831</th>\n      <td>Kenmore Air</td>\n      <td>Boeing Field King County International Airport</td>\n      <td>William R Fairchild International Airport</td>\n      <td>Seattle</td>\n      <td>United States</td>\n      <td>47.529999</td>\n      <td>-122.302002</td>\n      <td>21</td>\n      <td>Port Angeles</td>\n      <td>United States</td>\n      <td>48.120201</td>\n      <td>-123.500000</td>\n      <td>291</td>\n      <td>110.930397</td>\n      <td>0.161072</td>\n      <td>31.661891</td>\n    </tr>\n    <tr>\n      <th>6832</th>\n      <td>Kenmore Air</td>\n      <td>Boeing Field King County International Airport</td>\n      <td>Orcas Island Airport</td>\n      <td>Seattle</td>\n      <td>United States</td>\n      <td>47.529999</td>\n      <td>-122.302002</td>\n      <td>21</td>\n      <td>Eastsound</td>\n      <td>United States</td>\n      <td>48.708199</td>\n      <td>-122.910004</td>\n      <td>31</td>\n      <td>138.564899</td>\n      <td>0.899144</td>\n      <td>26.201671</td>\n    </tr>\n    <tr>\n      <th>6833</th>\n      <td>Kenmore Air</td>\n      <td>William R Fairchild International Airport</td>\n      <td>Boeing Field King County International Airport</td>\n      <td>Port Angeles</td>\n      <td>United States</td>\n      <td>48.120201</td>\n      <td>-123.500000</td>\n      <td>291</td>\n      <td>Seattle</td>\n      <td>United States</td>\n      <td>47.529999</td>\n      <td>-122.302002</td>\n      <td>21</td>\n      <td>110.930397</td>\n      <td>0.751768</td>\n      <td>99.285196</td>\n    </tr>\n    <tr>\n      <th>6834</th>\n      <td>Kenmore Air</td>\n      <td>Friday Harbor Airport</td>\n      <td>Boeing Field King County International Airport</td>\n      <td>Friday Harbor</td>\n      <td>United States</td>\n      <td>48.521999</td>\n      <td>-123.024002</td>\n      <td>113</td>\n      <td>Seattle</td>\n      <td>United States</td>\n      <td>47.529999</td>\n      <td>-122.302002</td>\n      <td>21</td>\n      <td>122.677708</td>\n      <td>1.119010</td>\n      <td>19.599675</td>\n    </tr>\n    <tr>\n      <th>6835</th>\n      <td>Kenmore Air</td>\n      <td>Orcas Island Airport</td>\n      <td>Friday Harbor Airport</td>\n      <td>Eastsound</td>\n      <td>United States</td>\n      <td>48.708199</td>\n      <td>-122.910004</td>\n      <td>31</td>\n      <td>Friday Harbor</td>\n      <td>United States</td>\n      <td>48.521999</td>\n      <td>-123.024002</td>\n      <td>113</td>\n      <td>22.336108</td>\n      <td>0.561618</td>\n      <td>85.342779</td>\n    </tr>\n  </tbody>\n</table>\n<p>6836 rows × 16 columns</p>\n</div>"
     },
     "execution_count": 150,
     "metadata": {},
     "output_type": "execute_result"
    }
   ],
   "source": [
    "df = pd.read_csv(r\"C:\\Users\\Tank.bnd\\Desktop\\AI_project\\search-blaster\\Flight_Data1.csv\")\n",
    "df"
   ],
   "metadata": {
    "collapsed": false,
    "ExecuteTime": {
     "end_time": "2023-11-12T20:53:02.216712700Z",
     "start_time": "2023-11-12T20:53:02.151736200Z"
    }
   },
   "id": "415bf51cc995e7a8"
  },
  {
   "cell_type": "code",
   "execution_count": 151,
   "outputs": [],
   "source": [
    "df1 = df.drop_duplicates('SourceAirport')\n",
    "df2 = df.drop_duplicates('DestinationAirport')\n",
    "df1.set_index('SourceAirport',inplace=True)\n",
    "df2.set_index('DestinationAirport',inplace=True)"
   ],
   "metadata": {
    "collapsed": false,
    "ExecuteTime": {
     "end_time": "2023-11-12T20:53:02.216712700Z",
     "start_time": "2023-11-12T20:53:02.199801600Z"
    }
   },
   "id": "7ea014831cf3e95a"
  },
  {
   "cell_type": "code",
   "execution_count": 152,
   "outputs": [],
   "source": [
    "G = nw.DiGraph()"
   ],
   "metadata": {
    "collapsed": false,
    "ExecuteTime": {
     "end_time": "2023-11-12T20:53:02.216712700Z",
     "start_time": "2023-11-12T20:53:02.206943800Z"
    }
   },
   "id": "5e14f3a4d21e25c0"
  },
  {
   "cell_type": "code",
   "execution_count": 153,
   "outputs": [],
   "source": [
    "G = nw.from_pandas_edgelist(df, source = 'SourceAirport', target = 'DestinationAirport', edge_attr = ['Distance','FlyTime','Price','SourceAirport_City','SourceAirport_Country','DestinationAirport_City','DestinationAirport_Country', 'SourceAirport_Latitude', 'SourceAirport_Longitude', 'SourceAirport_Altitude', 'DestinationAirport_Latitude','DestinationAirport_Longitude', 'DestinationAirport_Altitude', 'Airline'])"
   ],
   "metadata": {
    "collapsed": false,
    "ExecuteTime": {
     "end_time": "2023-11-12T20:53:02.246029300Z",
     "start_time": "2023-11-12T20:53:02.216712700Z"
    }
   },
   "id": "2b9bec09e3df21b6"
  },
  {
   "cell_type": "code",
   "execution_count": 154,
   "outputs": [],
   "source": [
    "source_and_destination_airports = input()\n",
    "airports = source_and_destination_airports.split(' - ')\n",
    "start_node , target_node = airports[0],airports[1]"
   ],
   "metadata": {
    "collapsed": false,
    "ExecuteTime": {
     "end_time": "2023-11-12T20:53:05.017512800Z",
     "start_time": "2023-11-12T20:53:02.246029300Z"
    }
   },
   "id": "6c33c4052202f523"
  },
  {
   "cell_type": "code",
   "execution_count": 155,
   "outputs": [],
   "source": [
    "def dijkstra_algorithm(graph, start_node):\n",
    "    unvisited_nodes = list(graph.nodes())\n",
    "    shortest_path = {}\n",
    "    previous_nodes = {}\n",
    "    # using max_value to initialize the \"infinity\" value of the unvisited nodes   \n",
    "    max_value = sys.maxsize\n",
    "    for node in unvisited_nodes:\n",
    "        shortest_path[node] = max_value\n",
    "    # initializing the starting node's value with 0   \n",
    "    shortest_path[start_node] = 0\n",
    "    while unvisited_nodes:\n",
    "        current_min_node = None\n",
    "        for node in unvisited_nodes:  # Iterate over the nodes\n",
    "            if current_min_node is None:\n",
    "                current_min_node = node\n",
    "            elif shortest_path[node] < shortest_path[current_min_node]:\n",
    "                current_min_node = node\n",
    "        # retrieving the current node's neighbors and updating their distances\n",
    "        neighbors = list(graph.adj[current_min_node])\n",
    "        for neighbor in neighbors:\n",
    "            value = graph.get_edge_data(current_min_node, neighbor)\n",
    "            tentative_value = shortest_path[current_min_node] + value.get('Distance')\n",
    "            if tentative_value < shortest_path[neighbor]:\n",
    "                shortest_path[neighbor] = tentative_value\n",
    "                # updating the best path to the current node\n",
    "                previous_nodes[neighbor] = current_min_node\n",
    "        unvisited_nodes.remove(current_min_node)\n",
    "    return previous_nodes "
   ],
   "metadata": {
    "collapsed": false,
    "ExecuteTime": {
     "end_time": "2023-11-12T20:53:05.028371Z",
     "start_time": "2023-11-12T20:53:04.954165100Z"
    }
   },
   "id": "bf91eaae3b75e3f2"
  },
  {
   "cell_type": "code",
   "execution_count": 156,
   "outputs": [],
   "source": [
    "def heuristic(current, D_La, D_Lo, D_A):\n",
    "    try:\n",
    "        row = df1.loc[current]\n",
    "        S_La = row['SourceAirport_Latitude']\n",
    "        S_Lo = row['SourceAirport_Longitude']\n",
    "        S_A = row['SourceAirport_Altitude']\n",
    "        return ((S_La - D_La) ** 2 + (S_Lo - D_Lo) ** 2 + (S_A - D_A) ** 2) ** 0.5\n",
    "    except:\n",
    "        return sys.maxsize"
   ],
   "metadata": {
    "collapsed": false,
    "ExecuteTime": {
     "end_time": "2023-11-12T20:53:05.028371Z",
     "start_time": "2023-11-12T20:53:04.960489100Z"
    }
   },
   "id": "36b03acdffaccee6"
  },
  {
   "cell_type": "code",
   "execution_count": 157,
   "outputs": [],
   "source": [
    "def a_star_algorithm(graph, start, target):\n",
    "    row_t = df2.loc[target]\n",
    "    D_La = row_t['DestinationAirport_Latitude']\n",
    "    D_Lo = row_t['DestinationAirport_Longitude']\n",
    "    D_A = row_t['DestinationAirport_Altitude']\n",
    "\n",
    "    frontier = PriorityQueue()\n",
    "    frontier.put(start, 0)\n",
    "    came_from = {}\n",
    "    cost_so_far = {}\n",
    "    came_from[start] = None\n",
    "    cost_so_far[start] = 0\n",
    "\n",
    "    while not frontier.empty():\n",
    "        current = frontier.get()\n",
    "\n",
    "        if current == target:\n",
    "            return came_from\n",
    "        neighbors = list(graph.adj[current])\n",
    "        for neighbor in neighbors:\n",
    "            value = graph.get_edge_data(current, neighbor)\n",
    "            new_cost = cost_so_far[current] + value.get('Distance')\n",
    "            if neighbor not in cost_so_far or new_cost < cost_so_far[neighbor]:\n",
    "                cost_so_far[neighbor] = new_cost\n",
    "                priority = new_cost + heuristic(neighbor, D_La, D_Lo, D_A)\n",
    "                frontier.put(neighbor, priority)\n",
    "                came_from[neighbor] = current\n",
    "    return came_from"
   ],
   "metadata": {
    "collapsed": false,
    "ExecuteTime": {
     "end_time": "2023-11-12T20:53:05.028371Z",
     "start_time": "2023-11-12T20:53:04.960995900Z"
    }
   },
   "id": "db5b0a232944fa0d"
  },
  {
   "cell_type": "code",
   "execution_count": 158,
   "outputs": [],
   "source": [
    "def calculate_result(previous_nodes, start_node, target_node):\n",
    "    path = []\n",
    "    node = target_node\n",
    "    while node != start_node:\n",
    "        path.append(node)\n",
    "        node = previous_nodes[node]\n",
    " \n",
    "    path.append(start_node)\n",
    "    path.reverse()\n",
    "    return path"
   ],
   "metadata": {
    "collapsed": false,
    "ExecuteTime": {
     "end_time": "2023-11-12T20:53:05.060356800Z",
     "start_time": "2023-11-12T20:53:04.976235Z"
    }
   },
   "id": "73574759203bf615"
  },
  {
   "cell_type": "code",
   "execution_count": 159,
   "outputs": [],
   "source": [
    "def write_file(mode, algorithm, graph, path, execution_time):\n",
    "    total_price = 0\n",
    "    total_time = 0\n",
    "    total_duration = 0\n",
    "    f = open(\"Blaster-UIAI4021-PR1-Q1.txt\", mode)\n",
    "    f.write(\"{} Algorithm\\n\"\n",
    "            \"Execution Time: {}\\n\"\n",
    "            \".-.-.-.-.-.-.-.-.-.-.-.-.-.-.-.-.-.-.-.-.-.-.-.-\\n\".format(algorithm, execution_time))\n",
    "    for i in range(len(path)-1):\n",
    "        value = graph.get_edge_data(path[i], path[i + 1])\n",
    "        total_price = total_price + value.get('Price')\n",
    "        total_time = total_time + value.get('FlyTime')\n",
    "        total_duration = total_duration + value.get('Distance')\n",
    "        f.write(\"Flight #{0} ({10}):\\n\"\n",
    "                \"From: {2}-{1}, {3}\\n\"\n",
    "                \"To: {5}-{4}, {6}\\n\"\n",
    "                \"Duration: {7}km\\n\"\n",
    "                \"Time: {8}h\\n\"\n",
    "                \"Price: {9}$\"\n",
    "                .format(i + 1, value.get('SourceAirport_City'), path[i], value.get('SourceAirport_Country'),\n",
    "                        value.get('DestinationAirport_City'), path[i + 1], value.get('DestinationAirport_Country'),\n",
    "                        round(value.get('Distance'),2),\n",
    "                        round(value.get('FlyTime'),2),\n",
    "                        round(value.get('Price'),2),\n",
    "                        value.get('Airline')))\n",
    "        f.write(\"\\n----------------------------\\n\")\n",
    "    f.write(\"Total Price: {}$\\n\"\n",
    "            \"Total Duration: {}km\\n\"\n",
    "            \"Total Time: {}h\\n\\n\".format(round(total_price,2), round(total_duration,2), round(total_time,2)))\n",
    "    f.close()\n",
    "    "
   ],
   "metadata": {
    "collapsed": false,
    "ExecuteTime": {
     "end_time": "2023-11-12T20:53:05.076413100Z",
     "start_time": "2023-11-12T20:53:04.979792800Z"
    }
   },
   "id": "a126f0064eed5334"
  },
  {
   "cell_type": "code",
   "execution_count": 160,
   "outputs": [],
   "source": [
    "dijkstra_start_time = time.time()\n",
    "dijkstra_previous_nodes = dijkstra_algorithm(graph=G, start_node=start_node)\n",
    "dijkstra_path = calculate_result(dijkstra_previous_nodes, start_node=start_node, target_node=target_node)\n",
    "dijkstra_end_time = time.time()"
   ],
   "metadata": {
    "collapsed": false,
    "ExecuteTime": {
     "end_time": "2023-11-12T20:53:05.076413100Z",
     "start_time": "2023-11-12T20:53:04.986768800Z"
    }
   },
   "id": "e7545b6ce7aab3f9"
  },
  {
   "cell_type": "code",
   "execution_count": 161,
   "outputs": [],
   "source": [
    "a_star_start_time = time.time()\n",
    "a_star_previous_nodes = a_star_algorithm(graph=G, start=start_node, target=target_node)\n",
    "a_star_path = calculate_result(a_star_previous_nodes, start_node=start_node, target_node=target_node)\n",
    "a_star_end_time = time.time()"
   ],
   "metadata": {
    "collapsed": false,
    "ExecuteTime": {
     "end_time": "2023-11-12T20:53:05.141581500Z",
     "start_time": "2023-11-12T20:53:05.019995900Z"
    }
   },
   "id": "e0d62419cb7f8972"
  },
  {
   "cell_type": "code",
   "execution_count": 162,
   "outputs": [],
   "source": [
    "write_file(mode='w',algorithm='Dijkstra',graph=G, path=dijkstra_path, execution_time = dijkstra_end_time - dijkstra_start_time)\n",
    "\n",
    "write_file(mode='a',algorithm='A*',graph=G, path=a_star_path, execution_time = a_star_end_time - a_star_start_time)"
   ],
   "metadata": {
    "collapsed": false,
    "ExecuteTime": {
     "end_time": "2023-11-12T20:53:05.141581500Z",
     "start_time": "2023-11-12T20:53:05.096867800Z"
    }
   },
   "id": "83baa8f913158878"
  }
 ],
 "metadata": {
  "kernelspec": {
   "display_name": "Python 3",
   "language": "python",
   "name": "python3"
  },
  "language_info": {
   "codemirror_mode": {
    "name": "ipython",
    "version": 2
   },
   "file_extension": ".py",
   "mimetype": "text/x-python",
   "name": "python",
   "nbconvert_exporter": "python",
   "pygments_lexer": "ipython2",
   "version": "2.7.6"
  }
 },
 "nbformat": 4,
 "nbformat_minor": 5
}
