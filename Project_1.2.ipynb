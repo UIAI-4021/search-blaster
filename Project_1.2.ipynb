{
 "cells": [
  {
   "cell_type": "code",
   "execution_count": 78,
   "outputs": [],
   "source": [
    "import pandas as pd\n",
    "from sklearn.model_selection import train_test_split\n",
    "import numpy as np\n",
    "import time\n",
    "import math\n",
    "from sklearn.metrics import r2_score, mean_squared_error, mean_absolute_error\n",
    "from sklearn.preprocessing import normalize"
   ],
   "metadata": {
    "collapsed": false,
    "ExecuteTime": {
     "end_time": "2023-11-07T20:48:50.943192800Z",
     "start_time": "2023-11-07T20:48:50.919241100Z"
    }
   },
   "id": "d6fde58d5c55c81b"
  },
  {
   "cell_type": "code",
   "execution_count": 79,
   "outputs": [
    {
     "data": {
      "text/plain": "       departure_time stops   arrival_time     class  duration  days_left  \\\n0             Evening  zero          Night   Economy      2.17          1   \n1       Early_Morning  zero        Morning   Economy      2.33          1   \n2       Early_Morning  zero  Early_Morning   Economy      2.17          1   \n3             Morning  zero      Afternoon   Economy      2.25          1   \n4             Morning  zero        Morning   Economy      2.33          1   \n...               ...   ...            ...       ...       ...        ...   \n270133  Early_Morning   one          Night  Business     17.25         49   \n270134        Morning   one        Evening  Business     10.08         49   \n270135      Afternoon   one          Night  Business     10.42         49   \n270136  Early_Morning   one        Evening  Business     10.00         49   \n270137        Morning   one        Evening  Business     10.08         49   \n\n        price  \n0        5953  \n1        5953  \n2        5956  \n3        5955  \n4        5955  \n...       ...  \n270133  68739  \n270134  69265  \n270135  77105  \n270136  81585  \n270137  81585  \n\n[270138 rows x 7 columns]",
      "text/html": "<div>\n<style scoped>\n    .dataframe tbody tr th:only-of-type {\n        vertical-align: middle;\n    }\n\n    .dataframe tbody tr th {\n        vertical-align: top;\n    }\n\n    .dataframe thead th {\n        text-align: right;\n    }\n</style>\n<table border=\"1\" class=\"dataframe\">\n  <thead>\n    <tr style=\"text-align: right;\">\n      <th></th>\n      <th>departure_time</th>\n      <th>stops</th>\n      <th>arrival_time</th>\n      <th>class</th>\n      <th>duration</th>\n      <th>days_left</th>\n      <th>price</th>\n    </tr>\n  </thead>\n  <tbody>\n    <tr>\n      <th>0</th>\n      <td>Evening</td>\n      <td>zero</td>\n      <td>Night</td>\n      <td>Economy</td>\n      <td>2.17</td>\n      <td>1</td>\n      <td>5953</td>\n    </tr>\n    <tr>\n      <th>1</th>\n      <td>Early_Morning</td>\n      <td>zero</td>\n      <td>Morning</td>\n      <td>Economy</td>\n      <td>2.33</td>\n      <td>1</td>\n      <td>5953</td>\n    </tr>\n    <tr>\n      <th>2</th>\n      <td>Early_Morning</td>\n      <td>zero</td>\n      <td>Early_Morning</td>\n      <td>Economy</td>\n      <td>2.17</td>\n      <td>1</td>\n      <td>5956</td>\n    </tr>\n    <tr>\n      <th>3</th>\n      <td>Morning</td>\n      <td>zero</td>\n      <td>Afternoon</td>\n      <td>Economy</td>\n      <td>2.25</td>\n      <td>1</td>\n      <td>5955</td>\n    </tr>\n    <tr>\n      <th>4</th>\n      <td>Morning</td>\n      <td>zero</td>\n      <td>Morning</td>\n      <td>Economy</td>\n      <td>2.33</td>\n      <td>1</td>\n      <td>5955</td>\n    </tr>\n    <tr>\n      <th>...</th>\n      <td>...</td>\n      <td>...</td>\n      <td>...</td>\n      <td>...</td>\n      <td>...</td>\n      <td>...</td>\n      <td>...</td>\n    </tr>\n    <tr>\n      <th>270133</th>\n      <td>Early_Morning</td>\n      <td>one</td>\n      <td>Night</td>\n      <td>Business</td>\n      <td>17.25</td>\n      <td>49</td>\n      <td>68739</td>\n    </tr>\n    <tr>\n      <th>270134</th>\n      <td>Morning</td>\n      <td>one</td>\n      <td>Evening</td>\n      <td>Business</td>\n      <td>10.08</td>\n      <td>49</td>\n      <td>69265</td>\n    </tr>\n    <tr>\n      <th>270135</th>\n      <td>Afternoon</td>\n      <td>one</td>\n      <td>Night</td>\n      <td>Business</td>\n      <td>10.42</td>\n      <td>49</td>\n      <td>77105</td>\n    </tr>\n    <tr>\n      <th>270136</th>\n      <td>Early_Morning</td>\n      <td>one</td>\n      <td>Evening</td>\n      <td>Business</td>\n      <td>10.00</td>\n      <td>49</td>\n      <td>81585</td>\n    </tr>\n    <tr>\n      <th>270137</th>\n      <td>Morning</td>\n      <td>one</td>\n      <td>Evening</td>\n      <td>Business</td>\n      <td>10.08</td>\n      <td>49</td>\n      <td>81585</td>\n    </tr>\n  </tbody>\n</table>\n<p>270138 rows × 7 columns</p>\n</div>"
     },
     "execution_count": 79,
     "metadata": {},
     "output_type": "execute_result"
    }
   ],
   "source": [
    "df = pd.read_csv(r\"C:\\Users\\Tank.bnd\\Desktop\\AI_project\\search-blaster\\Flight_Price_Dataset_Q2.csv\")\n",
    "df"
   ],
   "metadata": {
    "collapsed": false,
    "ExecuteTime": {
     "end_time": "2023-11-07T20:48:51.083023600Z",
     "start_time": "2023-11-07T20:48:50.921796700Z"
    }
   },
   "id": "43d661856a973f51"
  },
  {
   "cell_type": "code",
   "execution_count": 80,
   "outputs": [],
   "source": [
    "departure_time_map = {\n",
    "    'Early_Morning': 1,\n",
    "    'Morning': 2,\n",
    "    'Afternoon': 3,\n",
    "    'Evening': 4,\n",
    "    'Night': 5,\n",
    "    'Late_Night': 6\n",
    "    \n",
    "}\n",
    "df['departure_time'] = df['departure_time'].map(departure_time_map)\n",
    "\n",
    "arrival_time_map = {\n",
    "    'Early_Morning': 1,\n",
    "    'Morning': 2,\n",
    "    'Afternoon': 3,\n",
    "    'Evening': 4,\n",
    "    'Night': 5,\n",
    "    'Late_Night': 6\n",
    "}\n",
    "df['arrival_time'] = df['arrival_time'].map(arrival_time_map)\n",
    "\n",
    "stops_map = {\n",
    "    'zero': 0,\n",
    "    'one': 1,\n",
    "    'two_or_more':2\n",
    "}\n",
    "df['stops'] = df['stops'].map(stops_map)\n",
    "\n",
    "class_map = {\n",
    "    'Economy': 1,\n",
    "    'Business': 2\n",
    "}\n",
    "df['class'] = df['class'].map(class_map)"
   ],
   "metadata": {
    "collapsed": false,
    "ExecuteTime": {
     "end_time": "2023-11-07T20:48:51.182790400Z",
     "start_time": "2023-11-07T20:48:51.083023600Z"
    }
   },
   "id": "49061bd301bafd3e"
  },
  {
   "cell_type": "code",
   "execution_count": 81,
   "outputs": [],
   "source": [
    "def gradient_function(X_train, y_train, w, b):\n",
    "    m,n = X_train.shape           \n",
    "    error = (np.dot(X_train,w) + b) - y_train\n",
    "    dj_dw = np.dot(X_train.T,error) / m\n",
    "    return dj_dw\n",
    "        \n",
    "\n",
    "def gradient_descent(X_train, y_train, w, b, alpha, iters):\n",
    "    for i in range(iters):\n",
    "        dj_dw = gradient_function(X_train= X_train, y_train= y_train, w= w, b= b) \n",
    "        w = w - (alpha * dj_dw)\n",
    "    return w"
   ],
   "metadata": {
    "collapsed": false,
    "ExecuteTime": {
     "end_time": "2023-11-07T20:48:51.182790400Z",
     "start_time": "2023-11-07T20:48:51.151338900Z"
    }
   },
   "id": "ee75e9db4cc40244"
  },
  {
   "cell_type": "code",
   "execution_count": 103,
   "outputs": [
    {
     "name": "stdout",
     "output_type": "stream",
     "text": [
      "[20869.02669491   -58.70446971  2362.9346703    409.04584632\n",
      " 21172.55894465   591.66399964 -1757.74669506]\n"
     ]
    }
   ],
   "source": [
    "X_train, X_test, y_train, y_test = train_test_split(df[['departure_time', 'stops', 'arrival_time', 'class', 'duration', 'days_left']], df['price'], test_size=0.2, shuffle=True)\n",
    "\n",
    "X_train = (X_train - X_train.mean())/X_train.std()\n",
    "\n",
    "#add a column one at start \n",
    "X_train = np.c_[np.ones(X_train.shape[0]), X_train] \n",
    "\n",
    "alpha = 0.01\n",
    "iters = 1000\n",
    "w = np.zeros(X_train.shape[1])\n",
    "b = 0.\n",
    "start_time = time.time()\n",
    "w  = gradient_descent(X_train= X_train, y_train= y_train,w= w, b=b, alpha= alpha,iters= iters)\n",
    "end_time = time.time()\n",
    "print(w)"
   ],
   "metadata": {
    "collapsed": false,
    "ExecuteTime": {
     "end_time": "2023-11-07T20:54:46.985745500Z",
     "start_time": "2023-11-07T20:54:43.330437100Z"
    }
   },
   "id": "f50849a280ebffb"
  },
  {
   "cell_type": "code",
   "execution_count": 104,
   "outputs": [],
   "source": [
    "X_test = (X_test - X_test.mean())/X_test.std()\n",
    "X_test = np.c_[np.ones(X_test.shape[0]), X_test] \n",
    "y_pred = np.dot(X_train,w)\n",
    "y_test_pred = np.dot(X_test,w)"
   ],
   "metadata": {
    "collapsed": false,
    "ExecuteTime": {
     "end_time": "2023-11-07T20:54:52.938402100Z",
     "start_time": "2023-11-07T20:54:52.911645Z"
    }
   },
   "id": "9404be0594e3d2f2"
  },
  {
   "cell_type": "code",
   "execution_count": 105,
   "outputs": [
    {
     "name": "stdout",
     "output_type": "stream",
     "text": [
      "51856593.19381129\n",
      "7201.152212931712\n",
      "4629.280561156204\n",
      "0.9000634717268421\n"
     ]
    }
   ],
   "source": [
    "MSE = mean_squared_error(y_test, y_test_pred)\n",
    "RMSE = math.sqrt(MSE)\n",
    "MAE = mean_absolute_error(y_test, y_test_pred)\n",
    "R2 = r2_score(y_test, y_test_pred)\n",
    "print(MSE)\n",
    "print(RMSE)\n",
    "print(MAE)\n",
    "print(R2)"
   ],
   "metadata": {
    "collapsed": false,
    "ExecuteTime": {
     "end_time": "2023-11-07T20:54:53.878405200Z",
     "start_time": "2023-11-07T20:54:53.871368700Z"
    }
   },
   "id": "8c775c09fb471de0"
  },
  {
   "cell_type": "code",
   "execution_count": 106,
   "outputs": [],
   "source": [
    "f = open(\"Blaster-UIAI4021-PR1-Q2.txt\", \"w\")\n",
    "f.write(\"PRICE = {} + {}(departure_time) + {}(stops) + {}(arrival_time) + {}(class) + {}(duration) + {}(days_left)\".format(w[0],w[1],w[2],w[3],w[4],w[5],w[6]))\n",
    "f.write(\"\\nTraining Time: {}s\\n\".format(round(end_time-start_time)))\n",
    "f.write(\"\\nLogs:\"\n",
    "        \"\\nMSE: {}\" \n",
    "        \"\\nRMSE: {}\"\n",
    "        \"\\nMAE: {}\"\n",
    "        \"\\nR2: {}\".format(MSE, RMSE, MAE, R2))\n",
    "f.close()"
   ],
   "metadata": {
    "collapsed": false,
    "ExecuteTime": {
     "end_time": "2023-11-07T20:55:36.078310400Z",
     "start_time": "2023-11-07T20:55:36.074198600Z"
    }
   },
   "id": "e03d988bd00526b6"
  },
  {
   "cell_type": "code",
   "execution_count": 85,
   "outputs": [],
   "source": [],
   "metadata": {
    "collapsed": false,
    "ExecuteTime": {
     "end_time": "2023-11-07T20:49:23.907305700Z",
     "start_time": "2023-11-07T20:49:23.883096300Z"
    }
   },
   "id": "6b9fccaff251decf"
  }
 ],
 "metadata": {
  "kernelspec": {
   "name": "python3",
   "language": "python",
   "display_name": "Python 3 (ipykernel)"
  }
 },
 "nbformat": 4,
 "nbformat_minor": 5
}
